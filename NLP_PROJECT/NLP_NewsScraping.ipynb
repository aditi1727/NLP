{
 "cells": [
  {
   "cell_type": "code",
   "execution_count": 1,
   "id": "50cd344f",
   "metadata": {},
   "outputs": [],
   "source": [
    "from GoogleNews import GoogleNews\n",
    "import pandas as pd"
   ]
  },
  {
   "cell_type": "code",
   "execution_count": 2,
   "id": "2a4b24e0",
   "metadata": {},
   "outputs": [
    {
     "name": "stdout",
     "output_type": "stream",
     "text": [
      "'<' not supported between instances of 'NoneType' and 'NoneType'\n"
     ]
    }
   ],
   "source": [
    "gn = GoogleNews()\n",
    "\n",
    "gn.get_news('Narendra Modi')\n",
    "df = pd.DataFrame(gn.results(sort=True))"
   ]
  },
  {
   "cell_type": "code",
   "execution_count": 3,
   "id": "6b181cf1",
   "metadata": {},
   "outputs": [
    {
     "data": {
      "text/html": [
       "<div>\n",
       "<style scoped>\n",
       "    .dataframe tbody tr th:only-of-type {\n",
       "        vertical-align: middle;\n",
       "    }\n",
       "\n",
       "    .dataframe tbody tr th {\n",
       "        vertical-align: top;\n",
       "    }\n",
       "\n",
       "    .dataframe thead th {\n",
       "        text-align: right;\n",
       "    }\n",
       "</style>\n",
       "<table border=\"1\" class=\"dataframe\">\n",
       "  <thead>\n",
       "    <tr style=\"text-align: right;\">\n",
       "      <th></th>\n",
       "      <th>title</th>\n",
       "      <th>desc</th>\n",
       "      <th>site</th>\n",
       "    </tr>\n",
       "  </thead>\n",
       "  <tbody>\n",
       "    <tr>\n",
       "      <th>0</th>\n",
       "      <td>‘Taxpayers always expected this kind of facili...</td>\n",
       "      <td>bookmark_border</td>\n",
       "      <td>The Indian Express</td>\n",
       "    </tr>\n",
       "    <tr>\n",
       "      <th>1</th>\n",
       "      <td>PM Modi To Inaugurate 1st Global Innovation Su...</td>\n",
       "      <td>bookmark_border</td>\n",
       "      <td>NDTV</td>\n",
       "    </tr>\n",
       "    <tr>\n",
       "      <th>2</th>\n",
       "      <td>PM Modi arrives in Delhi after Italy, UK visit</td>\n",
       "      <td>bookmark_border</td>\n",
       "      <td>Hindustan Times</td>\n",
       "    </tr>\n",
       "    <tr>\n",
       "      <th>3</th>\n",
       "      <td>At Bhopal tribal meet, PM Modi accuses Opposit...</td>\n",
       "      <td>bookmark_border</td>\n",
       "      <td>The Indian Express</td>\n",
       "    </tr>\n",
       "    <tr>\n",
       "      <th>4</th>\n",
       "      <td>PM Narendra Modi to inaugurate meeting of Nati...</td>\n",
       "      <td>bookmark_border</td>\n",
       "      <td>Free Press Journal</td>\n",
       "    </tr>\n",
       "  </tbody>\n",
       "</table>\n",
       "</div>"
      ],
      "text/plain": [
       "                                               title             desc  \\\n",
       "0  ‘Taxpayers always expected this kind of facili...  bookmark_border   \n",
       "1  PM Modi To Inaugurate 1st Global Innovation Su...  bookmark_border   \n",
       "2     PM Modi arrives in Delhi after Italy, UK visit  bookmark_border   \n",
       "3  At Bhopal tribal meet, PM Modi accuses Opposit...  bookmark_border   \n",
       "4  PM Narendra Modi to inaugurate meeting of Nati...  bookmark_border   \n",
       "\n",
       "                 site  \n",
       "0  The Indian Express  \n",
       "1                NDTV  \n",
       "2     Hindustan Times  \n",
       "3  The Indian Express  \n",
       "4  Free Press Journal  "
      ]
     },
     "execution_count": 3,
     "metadata": {},
     "output_type": "execute_result"
    }
   ],
   "source": [
    "df = df.drop([\"link\", \"date\", \"datetime\", \"img\", \"media\"], axis=1)\n",
    "df.head()"
   ]
  },
  {
   "cell_type": "code",
   "execution_count": 4,
   "id": "9597683d",
   "metadata": {},
   "outputs": [],
   "source": [
    "df.to_csv('google_news.csv')\n",
    "df.to_json('g_news.json')"
   ]
  },
  {
   "cell_type": "code",
   "execution_count": null,
   "id": "90b93a48",
   "metadata": {},
   "outputs": [],
   "source": []
  }
 ],
 "metadata": {
  "kernelspec": {
   "display_name": "Python 3",
   "language": "python",
   "name": "python3"
  },
  "language_info": {
   "codemirror_mode": {
    "name": "ipython",
    "version": 3
   },
   "file_extension": ".py",
   "mimetype": "text/x-python",
   "name": "python",
   "nbconvert_exporter": "python",
   "pygments_lexer": "ipython3",
   "version": "3.8.2"
  }
 },
 "nbformat": 4,
 "nbformat_minor": 5
}
