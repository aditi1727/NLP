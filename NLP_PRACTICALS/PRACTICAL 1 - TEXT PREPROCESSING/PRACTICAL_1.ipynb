{
 "cells": [
  {
   "cell_type": "markdown",
   "id": "a11abbfa",
   "metadata": {},
   "source": [
    "## Importing Libraries"
   ]
  },
  {
   "cell_type": "code",
   "execution_count": 1,
   "id": "0dcd9b03",
   "metadata": {},
   "outputs": [],
   "source": [
    "import numpy as np\n",
    "import pandas as pd \n",
    "import re\n",
    "import string\n",
    "import nltk\n",
    "from nltk.corpus import stopwords\n",
    "from nltk.tokenize import word_tokenize \n",
    "from nltk.stem.porter import *\n",
    "from nltk.stem.wordnet import WordNetLemmatizer"
   ]
  },
  {
   "cell_type": "markdown",
   "id": "0a1949d6",
   "metadata": {},
   "source": [
    "## Lowering the case"
   ]
  },
  {
   "cell_type": "code",
   "execution_count": 2,
   "id": "60673524",
   "metadata": {},
   "outputs": [
    {
     "name": "stdout",
     "output_type": "stream",
     "text": [
      "Your-Text:Natural language processing is the set of methods for making human language accessi- ble to computers.\n",
      "\n",
      "lowercased: natural language processing is the set of methods for making human language accessi- ble to computers.\n"
     ]
    }
   ],
   "source": [
    "def lowercase(intext):\n",
    "    return intext.lower()    \n",
    "\n",
    "#Alternatively:\n",
    "#orig =data.raw(r'file.text') # read raw text form orignal file\n",
    "#sent = data.sents(r'file.txt') #brake parah into sentance\n",
    "#bwords = data.words(r'file.text')#break parah into words\n",
    "\n",
    "intext = input('Your-Text:')\n",
    "clean_text = lowercase(intext)\n",
    "print('\\nlowercased:',lowercase(clean_text))"
   ]
  },
  {
   "cell_type": "markdown",
   "id": "a9decca1",
   "metadata": {},
   "source": [
    "## Removing the StopWords and Tokenizing the statement"
   ]
  },
  {
   "cell_type": "code",
   "execution_count": 3,
   "id": "ed3c6bfd",
   "metadata": {},
   "outputs": [
    {
     "name": "stdout",
     "output_type": "stream",
     "text": [
      "Your-Text:Natural language processing is the set of methods for making human language accessi- ble to computers.\n",
      "Tokenized words:  ['Natural', 'language', 'processing', 'is', 'the', 'set', 'of', 'methods', 'for', 'making', 'human', 'language', 'accessi-', 'ble', 'to', 'computers', '.']\n",
      "No-Stopwords:  ['Natural', 'language', 'processing', 'set', 'methods', 'making', 'human', 'language', 'accessi-', 'ble', 'computers', '.']\n"
     ]
    }
   ],
   "source": [
    "text = input('Your-Text:')\n",
    "stop_words = set(stopwords.words('english')) \n",
    "tokenwords = word_tokenize(text) \n",
    "result = [w for w in tokenwords if not w in stop_words] \n",
    "result = [] \n",
    "for w in tokenwords: \n",
    "    if w not in stop_words: \n",
    "        result.append(w) \n",
    "  \n",
    "print('Tokenized words: ',tokenwords) \n",
    "print('No-Stopwords: ',result) "
   ]
  },
  {
   "cell_type": "markdown",
   "id": "8287e703",
   "metadata": {},
   "source": [
    "## Stemming"
   ]
  },
  {
   "cell_type": "code",
   "execution_count": 4,
   "id": "16829e92",
   "metadata": {},
   "outputs": [
    {
     "name": "stdout",
     "output_type": "stream",
     "text": [
      "Stemming-Form: ['natur', 'languag', 'process', 'is', 'the', 'set', 'of', 'method', 'for', 'make', 'human', 'languag', 'accessi-', 'ble', 'to', 'comput', '.']\n"
     ]
    }
   ],
   "source": [
    "ps = PorterStemmer()\n",
    "stemwords = [ps.stem(w) for w in tokenwords]\n",
    "print ('Stemming-Form:', stemwords)"
   ]
  },
  {
   "cell_type": "markdown",
   "id": "1f579825",
   "metadata": {},
   "source": [
    "## Lemmetization"
   ]
  },
  {
   "cell_type": "code",
   "execution_count": 5,
   "id": "e70ef9e7",
   "metadata": {},
   "outputs": [
    {
     "name": "stdout",
     "output_type": "stream",
     "text": [
      "Lemmtization-form ['Natural', 'language', 'processing', 'is', 'the', 'set', 'of', 'method', 'for', 'making', 'human', 'language', 'accessi-', 'ble', 'to', 'computer', '.']\n"
     ]
    }
   ],
   "source": [
    "lemmatizer = WordNetLemmatizer()\n",
    "lemmawords = [lemmatizer.lemmatize(w) for w in tokenwords]\n",
    "print ('Lemmtization-form',lemmawords)"
   ]
  },
  {
   "cell_type": "code",
   "execution_count": null,
   "id": "6345b6ec",
   "metadata": {},
   "outputs": [],
   "source": []
  }
 ],
 "metadata": {
  "kernelspec": {
   "display_name": "Python 3",
   "language": "python",
   "name": "python3"
  },
  "language_info": {
   "codemirror_mode": {
    "name": "ipython",
    "version": 3
   },
   "file_extension": ".py",
   "mimetype": "text/x-python",
   "name": "python",
   "nbconvert_exporter": "python",
   "pygments_lexer": "ipython3",
   "version": "3.8.2"
  }
 },
 "nbformat": 4,
 "nbformat_minor": 5
}
