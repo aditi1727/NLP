{
 "cells": [
  {
   "cell_type": "code",
   "execution_count": 1,
   "id": "diagnostic-undergraduate",
   "metadata": {},
   "outputs": [],
   "source": [
    "import re\n",
    "import numpy as np\n",
    "\n",
    "from gensim.models import Word2Vec\n",
    "from nltk.corpus import gutenberg\n",
    "from multiprocessing import Pool\n",
    "from scipy import spatial"
   ]
  },
  {
   "cell_type": "code",
   "execution_count": 2,
   "id": "metallic-thirty",
   "metadata": {},
   "outputs": [],
   "source": [
    "sentences = list(gutenberg.sents('shakespeare-hamlet.txt'))"
   ]
  },
  {
   "cell_type": "code",
   "execution_count": 3,
   "id": "adapted-facing",
   "metadata": {},
   "outputs": [
    {
     "name": "stdout",
     "output_type": "stream",
     "text": [
      "Type of corpus:  <class 'list'>\n",
      "Length of corpus:  3106\n"
     ]
    }
   ],
   "source": [
    "print('Type of corpus: ', type(sentences))\n",
    "print('Length of corpus: ', len(sentences))"
   ]
  },
  {
   "cell_type": "code",
   "execution_count": 4,
   "id": "yellow-indicator",
   "metadata": {},
   "outputs": [
    {
     "name": "stdout",
     "output_type": "stream",
     "text": [
      "['[', 'The', 'Tragedie', 'of', 'Hamlet', 'by', 'William', 'Shakespeare', '1599', ']']\n",
      "['Actus', 'Primus', '.']\n",
      "['Fran', '.']\n"
     ]
    }
   ],
   "source": [
    "print(sentences[0])    # title, author, and year\n",
    "print(sentences[1])\n",
    "print(sentences[10])"
   ]
  },
  {
   "cell_type": "code",
   "execution_count": 5,
   "id": "8dabfa74",
   "metadata": {},
   "outputs": [],
   "source": [
    "for i in range(len(sentences)):\n",
    "    sentences[i] = [word.lower() for word in sentences[i] if re.match('^[a-zA-Z]+', word)]  "
   ]
  },
  {
   "cell_type": "code",
   "execution_count": 6,
   "id": "996887a7",
   "metadata": {},
   "outputs": [
    {
     "name": "stdout",
     "output_type": "stream",
     "text": [
      "['the', 'tragedie', 'of', 'hamlet', 'by', 'william', 'shakespeare']\n",
      "['actus', 'primus']\n",
      "['fran']\n"
     ]
    }
   ],
   "source": [
    "print(sentences[0])    # title, author, and year\n",
    "print(sentences[1])\n",
    "print(sentences[10])"
   ]
  },
  {
   "cell_type": "code",
   "execution_count": 9,
   "id": "e42242f5",
   "metadata": {},
   "outputs": [],
   "source": [
    "model = Word2Vec(sentences = sentences, sg = 1, window = 3, min_count = 1, workers = Pool()._processes)"
   ]
  },
  {
   "cell_type": "code",
   "execution_count": 11,
   "id": "63704baa",
   "metadata": {},
   "outputs": [
    {
     "name": "stderr",
     "output_type": "stream",
     "text": [
      "<ipython-input-11-7f554896ee84>:1: DeprecationWarning: Call to deprecated `init_sims` (Gensim 4.0.0 implemented internal optimizations that make calls to init_sims() unnecessary. init_sims() is now obsoleted and will be completely removed in future versions. See https://github.com/RaRe-Technologies/gensim/wiki/Migrating-from-Gensim-3.x-to-4).\n",
      "  model.init_sims(replace = True)\n"
     ]
    }
   ],
   "source": [
    "model.init_sims(replace = True)"
   ]
  },
  {
   "cell_type": "code",
   "execution_count": 12,
   "id": "81e18360",
   "metadata": {},
   "outputs": [],
   "source": [
    "model.save('word2vec_model')"
   ]
  },
  {
   "cell_type": "code",
   "execution_count": 13,
   "id": "12b96c8c",
   "metadata": {},
   "outputs": [],
   "source": [
    "model = Word2Vec.load('word2vec_model')"
   ]
  },
  {
   "cell_type": "code",
   "execution_count": 17,
   "id": "797b1165",
   "metadata": {},
   "outputs": [
    {
     "data": {
      "text/plain": [
       "[('oh', 0.9985551834106445),\n",
       " ('reason', 0.9985302090644836),\n",
       " ('heere', 0.9985257387161255),\n",
       " ('dead', 0.9985052943229675),\n",
       " ('king', 0.9984992146492004),\n",
       " ('ile', 0.9984736442565918),\n",
       " ('come', 0.9984534978866577),\n",
       " ('two', 0.9984508156776428),\n",
       " ('thee', 0.9984473586082458),\n",
       " ('how', 0.9984276294708252)]"
      ]
     },
     "execution_count": 17,
     "metadata": {},
     "output_type": "execute_result"
    }
   ],
   "source": [
    "model.wv.most_similar('hamlet')"
   ]
  },
  {
   "cell_type": "code",
   "execution_count": null,
   "id": "54fe9b1a",
   "metadata": {},
   "outputs": [],
   "source": []
  }
 ],
 "metadata": {
  "kernelspec": {
   "display_name": "Python 3",
   "language": "python",
   "name": "python3"
  },
  "language_info": {
   "codemirror_mode": {
    "name": "ipython",
    "version": 3
   },
   "file_extension": ".py",
   "mimetype": "text/x-python",
   "name": "python",
   "nbconvert_exporter": "python",
   "pygments_lexer": "ipython3",
   "version": "3.8.2"
  }
 },
 "nbformat": 4,
 "nbformat_minor": 5
}
