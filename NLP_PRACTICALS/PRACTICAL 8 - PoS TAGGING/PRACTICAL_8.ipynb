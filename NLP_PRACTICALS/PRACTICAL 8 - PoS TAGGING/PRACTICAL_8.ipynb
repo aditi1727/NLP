{
 "cells": [
  {
   "cell_type": "code",
   "execution_count": 1,
   "id": "european-conversion",
   "metadata": {},
   "outputs": [],
   "source": [
    "import nltk\n",
    "from nltk.corpus import stopwords\n",
    "from nltk.tokenize import word_tokenize, sent_tokenize\n",
    "stop_words = set(stopwords.words('english'))"
   ]
  },
  {
   "cell_type": "code",
   "execution_count": 2,
   "id": "veterinary-center",
   "metadata": {},
   "outputs": [],
   "source": [
    "txt = \"Android is a mobile operating system developed by Google.\"\\\n",
    "    \"Android has been the best-selling OS worldwide on smartphones since 2011 and on tablets since 2013.\"\\\n",
    "    \"Google and Twitter made a deal in 2015 that gave Google access to Twitter's firehose.\"\\\n",
    "    \"Twitter is an online news and social networking service on which users post and interact with messages known as tweets.\"\\\n",
    "    \"Before entering politics, Donald Trump was a domineering businessman and a television personality.\"\\\n",
    "    \"The 2018 FIFA World Cup is the 21st FIFA World Cup, an international football tournament contested once every four years.\"\\\n",
    "    \"This is the first World Cup to be held in Eastern Europe and the 11th time that it has been held in Europe.\"\\\n",
    "    \"Show me the cheapest round trips from Dallas to Atlanta.\"\\\n",
    "    \"I would like to see flights from Denver to Philadelphia.\"\\\n",
    "    \"Show me the price of the flights leaving Atlanta at about 3 in the afternoon and arriving in San Francisco.\"\\\n",
    "    \"NASA invited social media users to experience the launch of ICESAT-2 Satellite.\"\\\n",
    "    \"Sukanya, Rajib and Naba are my good friends. \" \\\n",
    "    \"Sukanya is getting married next year. \" \\\n",
    "    \"Marriage is a big step in one’s life.\" \\\n",
    "    \"It is both exciting and frightening. \" \\\n",
    "    \"But friendship is a sacred bond between people.\" \\\n",
    "    \"It is a special kind of love between us. \" \\\n",
    "    \"Many of you must have tried searching for a friend \"\\\n",
    "    \"but never found the right one.\"\n",
    "\n",
    "\n",
    "tokenized = sent_tokenize(txt)"
   ]
  },
  {
   "cell_type": "code",
   "execution_count": 3,
   "id": "burning-funeral",
   "metadata": {},
   "outputs": [
    {
     "name": "stdout",
     "output_type": "stream",
     "text": [
      "[('Android', 'NNP'), ('mobile', 'NN'), ('operating', 'VBG'), ('system', 'NN'), ('developed', 'VBD'), ('Google.Android', 'NNP'), ('best-selling', 'JJ'), ('OS', 'NNP'), ('worldwide', 'NN'), ('smartphones', 'NNS'), ('since', 'IN'), ('2011', 'CD'), ('tablets', 'NNS'), ('since', 'IN'), ('2013.Google', 'CD'), ('Twitter', 'NNP'), ('made', 'VBD'), ('deal', 'NN'), ('2015', 'CD'), ('gave', 'VBD'), ('Google', 'NNP'), ('access', 'NN'), ('Twitter', 'NNP'), (\"'s\", 'POS'), ('firehose.Twitter', 'NN'), ('online', 'NN'), ('news', 'NN'), ('social', 'JJ'), ('networking', 'NN'), ('service', 'NN'), ('users', 'NNS'), ('post', 'VBP'), ('interact', 'JJ'), ('messages', 'NNS'), ('known', 'VBN'), ('tweets.Before', 'RB'), ('entering', 'VBG'), ('politics', 'NNS'), (',', ','), ('Donald', 'NNP'), ('Trump', 'NNP'), ('domineering', 'VBG'), ('businessman', 'JJ'), ('television', 'NN'), ('personality.The', 'NN'), ('2018', 'CD'), ('FIFA', 'NNP'), ('World', 'NNP'), ('Cup', 'NNP'), ('21st', 'CD'), ('FIFA', 'NNP'), ('World', 'NNP'), ('Cup', 'NNP'), (',', ','), ('international', 'JJ'), ('football', 'NN'), ('tournament', 'NN'), ('contested', 'VBD'), ('every', 'DT'), ('four', 'CD'), ('years.This', 'NN'), ('first', 'RB'), ('World', 'NNP'), ('Cup', 'NNP'), ('held', 'VBD'), ('Eastern', 'NNP'), ('Europe', 'NNP'), ('11th', 'CD'), ('time', 'NN'), ('held', 'VBD'), ('Europe.Show', 'NNP'), ('cheapest', 'JJS'), ('round', 'NN'), ('trips', 'VBZ'), ('Dallas', 'NNP'), ('Atlanta.I', 'NNP'), ('would', 'MD'), ('like', 'VB'), ('see', 'VB'), ('flights', 'NNS'), ('Denver', 'NNP'), ('Philadelphia.Show', 'NNP'), ('price', 'NN'), ('flights', 'NNS'), ('leaving', 'VBG'), ('Atlanta', 'NNP'), ('3', 'CD'), ('afternoon', 'NN'), ('arriving', 'VBG'), ('San', 'NNP'), ('Francisco.NASA', 'NNP'), ('invited', 'VBD'), ('social', 'JJ'), ('media', 'NNS'), ('users', 'NNS'), ('experience', 'VBP'), ('launch', 'JJ'), ('ICESAT-2', 'NNP'), ('Satellite.Sukanya', 'NNP'), (',', ','), ('Rajib', 'NNP'), ('Naba', 'NNP'), ('good', 'JJ'), ('friends', 'NNS'), ('.', '.')]\n",
      "[('Sukanya', 'NNP'), ('getting', 'VBG'), ('married', 'VBN'), ('next', 'JJ'), ('year', 'NN'), ('.', '.')]\n",
      "[('Marriage', 'NN'), ('big', 'JJ'), ('step', 'NN'), ('one', 'CD'), ('’', 'NN'), ('life.It', 'NN'), ('exciting', 'VBG'), ('frightening', 'NN'), ('.', '.')]\n",
      "[('But', 'CC'), ('friendship', 'NN'), ('sacred', 'VBD'), ('bond', 'NN'), ('people.It', 'NN'), ('special', 'JJ'), ('kind', 'NN'), ('love', 'VB'), ('us', 'PRP'), ('.', '.')]\n",
      "[('Many', 'JJ'), ('must', 'MD'), ('tried', 'VB'), ('searching', 'VBG'), ('friend', 'NN'), ('never', 'RB'), ('found', 'VBD'), ('right', 'JJ'), ('one', 'CD'), ('.', '.')]\n"
     ]
    }
   ],
   "source": [
    "for i in tokenized:\n",
    "\n",
    "    # Word tokenizers is used to find the words\n",
    "    # and punctuation in a string\n",
    "    wordsList = nltk.word_tokenize(i)\n",
    "\n",
    "    # removing stop words from wordList\n",
    "    wordsList = [w for w in wordsList if not w in stop_words]\n",
    "\n",
    "    # Using a Tagger. Which is part-of-speech\n",
    "    # tagger or POS-tagger.\n",
    "    tagged = nltk.pos_tag(wordsList)\n",
    "\n",
    "    print(tagged)\n"
   ]
  },
  {
   "cell_type": "code",
   "execution_count": 4,
   "id": "assured-hypothesis",
   "metadata": {},
   "outputs": [
    {
     "data": {
      "text/plain": [
       "[[('Pierre', 'NOUN'),\n",
       "  ('Vinken', 'NOUN'),\n",
       "  (',', '.'),\n",
       "  ('61', 'NUM'),\n",
       "  ('years', 'NOUN'),\n",
       "  ('old', 'ADJ'),\n",
       "  (',', '.'),\n",
       "  ('will', 'VERB'),\n",
       "  ('join', 'VERB'),\n",
       "  ('the', 'DET'),\n",
       "  ('board', 'NOUN'),\n",
       "  ('as', 'ADP'),\n",
       "  ('a', 'DET'),\n",
       "  ('nonexecutive', 'ADJ'),\n",
       "  ('director', 'NOUN'),\n",
       "  ('Nov.', 'NOUN'),\n",
       "  ('29', 'NUM'),\n",
       "  ('.', '.')],\n",
       " [('Mr.', 'NOUN'),\n",
       "  ('Vinken', 'NOUN'),\n",
       "  ('is', 'VERB'),\n",
       "  ('chairman', 'NOUN'),\n",
       "  ('of', 'ADP'),\n",
       "  ('Elsevier', 'NOUN'),\n",
       "  ('N.V.', 'NOUN'),\n",
       "  (',', '.'),\n",
       "  ('the', 'DET'),\n",
       "  ('Dutch', 'NOUN'),\n",
       "  ('publishing', 'VERB'),\n",
       "  ('group', 'NOUN'),\n",
       "  ('.', '.')]]"
      ]
     },
     "execution_count": 4,
     "metadata": {},
     "output_type": "execute_result"
    }
   ],
   "source": [
    "# reading the Treebank tagged sentences\n",
    "nltk_data = list(nltk.corpus.treebank.tagged_sents(tagset='universal'))\n",
    "nltk_data[:2]"
   ]
  },
  {
   "cell_type": "markdown",
   "id": "cbfa799c",
   "metadata": {},
   "source": [
    "## Splitting into train and test"
   ]
  },
  {
   "cell_type": "code",
   "execution_count": 7,
   "id": "e76ba2d1",
   "metadata": {},
   "outputs": [
    {
     "name": "stdout",
     "output_type": "stream",
     "text": [
      "Training Set Length - 3718\n",
      "Training Set Length - 196\n",
      "------------------------------------------------------------------------------------------------------------------------\n",
      "Training Data Glimpse -\n",
      "\n",
      "[[('The', 'DET'), ('Communist', 'NOUN'), ('Party', 'NOUN'), ('chief', 'NOUN'), (',', '.'), ('*-1', 'X'), ('in', 'ADP'), ('Moscow', 'NOUN'), ('for', 'ADP'), ('talks', 'NOUN'), ('with', 'ADP'), ('Soviet', 'ADJ'), ('officials', 'NOUN'), (',', '.'), ('also', 'ADV'), ('said', 'VERB'), ('0', 'X'), ('East', 'NOUN'), ('Germany', 'NOUN'), ('would', 'VERB'), ('follow', 'VERB'), ('Gorbachev', 'NOUN'), (\"'s\", 'PRT'), ('restructuring', 'NOUN'), ('plans', 'NOUN'), ('.', '.')], [('William', 'NOUN'), ('G.', 'NOUN'), ('Kuhns', 'NOUN'), (',', '.'), ('former', 'ADJ'), ('chairman', 'NOUN'), ('*RNR*-1', 'X'), ('and', 'CONJ'), ('chief', 'ADJ'), ('executive', 'ADJ'), ('officer', 'NOUN'), ('*RNR*-1', 'X'), ('of', 'ADP'), ('General', 'NOUN'), ('Public', 'NOUN'), ('Utilities', 'NOUN'), ('Corp.', 'NOUN'), (',', '.'), ('was', 'VERB'), ('elected', 'VERB'), ('*-2', 'X'), ('a', 'DET'), ('director', 'NOUN'), ('of', 'ADP'), ('this', 'DET'), ('maker', 'NOUN'), ('of', 'ADP'), ('industrial', 'ADJ'), ('and', 'CONJ'), ('construction', 'NOUN'), ('equipment', 'NOUN'), (',', '.'), ('*', 'X'), ('increasing', 'VERB'), ('board', 'NOUN'), ('membership', 'NOUN'), ('to', 'PRT'), ('10', 'NUM'), ('.', '.')], [('Your', 'PRON'), ('Oct.', 'NOUN'), ('6', 'NUM'), ('editorial', 'NOUN'), ('``', '.'), ('The', 'NOUN'), ('Ill', 'NOUN'), ('Homeless', 'NOUN'), (\"''\", '.'), ('referred', 'VERB'), ('to', 'PRT'), ('research', 'NOUN'), ('by', 'ADP'), ('us', 'PRON'), ('and', 'CONJ'), ('six', 'NUM'), ('of', 'ADP'), ('our', 'PRON'), ('colleagues', 'NOUN'), ('that', 'DET'), ('*T*-1', 'X'), ('was', 'VERB'), ('reported', 'VERB'), ('*-17', 'X'), ('in', 'ADP'), ('the', 'DET'), ('Sept.', 'NOUN'), ('8', 'NUM'), ('issue', 'NOUN'), ('of', 'ADP'), ('the', 'DET'), ('Journal', 'NOUN'), ('of', 'ADP'), ('the', 'DET'), ('American', 'NOUN'), ('Medical', 'NOUN'), ('Association', 'NOUN'), ('.', '.')], [('The', 'DET'), ('protracted', 'ADJ'), ('downturn', 'NOUN'), ('reflects', 'VERB'), ('the', 'DET'), ('intensity', 'NOUN'), ('of', 'ADP'), ('Bank', 'NOUN'), ('of', 'ADP'), ('Japan', 'NOUN'), ('yen-support', 'ADJ'), ('intervention', 'NOUN'), ('since', 'ADP'), ('June', 'NOUN'), (',', '.'), ('when', 'ADV'), ('the', 'DET'), ('U.S.', 'NOUN'), ('currency', 'NOUN'), ('temporarily', 'ADV'), ('surged', 'VERB'), ('above', 'ADP'), ('the', 'DET'), ('150.00', 'NUM'), ('yen', 'NOUN'), ('level', 'NOUN'), ('*T*-1', 'X'), ('.', '.')], [('Because', 'ADP'), ('of', 'ADP'), ('deteriorating', 'VERB'), ('hearing', 'NOUN'), (',', '.'), ('she', 'PRON'), ('told', 'VERB'), ('colleagues', 'NOUN'), ('0', 'X'), ('she', 'PRON'), ('feared', 'VERB'), ('0', 'X'), ('she', 'PRON'), ('might', 'VERB'), ('not', 'ADV'), ('be', 'VERB'), ('able', 'ADJ'), ('*-1', 'X'), ('to', 'PRT'), ('teach', 'VERB'), ('much', 'ADV'), ('longer', 'ADV'), ('.', '.')], [('As', 'ADP'), ('individual', 'ADJ'), ('investors', 'NOUN'), ('have', 'VERB'), ('turned', 'VERB'), ('away', 'ADV'), ('from', 'ADP'), ('the', 'DET'), ('stock', 'NOUN'), ('market', 'NOUN'), ('over', 'ADP'), ('the', 'DET'), ('years', 'NOUN'), (',', '.'), ('securities', 'NOUN'), ('firms', 'NOUN'), ('have', 'VERB'), ('scrambled', 'VERB'), ('*-1', 'X'), ('to', 'PRT'), ('find', 'VERB'), ('new', 'ADJ'), ('products', 'NOUN'), ('that', 'DET'), ('brokers', 'NOUN'), ('find', 'VERB'), ('*T*-40', 'X'), ('easy', 'ADJ'), ('0', 'X'), ('*', 'X'), ('to', 'PRT'), ('sell', 'VERB'), ('*T*-2', 'X'), ('.', '.')], [('The', 'DET'), ('panel', 'NOUN'), ('ruled', 'VERB'), ('that', 'ADP'), ('the', 'DET'), ('restrictions', 'NOUN'), ('do', 'VERB'), (\"n't\", 'ADV'), ('violate', 'VERB'), ('the', 'DET'), ('freedom', 'NOUN'), ('of', 'ADP'), ('speech', 'NOUN'), ('of', 'ADP'), ('health', 'NOUN'), ('care', 'NOUN'), ('providers', 'NOUN'), ('and', 'CONJ'), ('that', 'ADP'), ('the', 'DET'), ('limits', 'NOUN'), ('on', 'ADP'), ('counseling', 'NOUN'), ('services', 'NOUN'), ('do', 'VERB'), (\"n't\", 'ADV'), ('violate', 'VERB'), ('the', 'DET'), ('rights', 'NOUN'), ('of', 'ADP'), ('pregnant', 'ADJ'), ('women', 'NOUN'), ('.', '.')], [('Mr.', 'NOUN'), ('Klauser', 'NOUN'), ('says', 'VERB'), ('0', 'X'), ('Mitsui', 'NOUN'), ('has', 'VERB'), ('75', 'NUM'), ('U.S.', 'NOUN'), ('subsidiaries', 'NOUN'), ('in', 'ADP'), ('which', 'DET'), ('it', 'PRON'), ('holds', 'VERB'), ('35', 'NUM'), ('%', 'NOUN'), ('interest', 'NOUN'), ('or', 'CONJ'), ('more', 'ADJ'), ('*T*-1', 'X'), ('and', 'CONJ'), ('the', 'DET'), ('trading', 'NOUN'), ('company', 'NOUN'), ('hopes', 'VERB'), ('*-2', 'X'), ('to', 'PRT'), ('double', 'VERB'), ('the', 'DET'), ('number', 'NOUN'), ('of', 'ADP'), ('its', 'PRON'), ('U.S.', 'NOUN'), ('affiliates', 'NOUN'), ('in', 'ADP'), ('1990', 'NUM'), ('.', '.')], [('*', 'X'), ('Put', 'VERB'), ('*-1', 'X'), ('another', 'DET'), ('way', 'NOUN'), (',', '.'), ('the', 'DET'), ('decline', 'NOUN'), ('in', 'ADP'), ('the', 'DET'), ('yield', 'NOUN'), ('suggests', 'VERB'), ('0', 'X'), ('stocks', 'NOUN'), ('have', 'VERB'), ('gotten', 'VERB'), ('pretty', 'ADV'), ('rich', 'ADJ'), ('in', 'ADP'), ('price', 'NOUN'), ('relative', 'ADJ'), ('to', 'PRT'), ('the', 'DET'), ('dividends', 'NOUN'), ('0', 'X'), ('they', 'PRON'), ('pay', 'VERB'), ('*T*-2', 'X'), (',', '.'), ('some', 'DET'), ('market', 'NOUN'), ('analysts', 'NOUN'), ('say', 'VERB'), ('0', 'X'), ('*T*-3', 'X'), ('.', '.')], [('FEDERAL', 'NOUN'), ('NATIONAL', 'NOUN'), ('MORTGAGE', 'NOUN'), ('ASSOCIATION', 'NOUN'), ('-LRB-', '.'), ('Fannie', 'NOUN'), ('Mae', 'NOUN'), ('-RRB-', '.'), (':', '.'), ('Posted', 'VERB'), ('yields', 'NOUN'), ('on', 'ADP'), ('30', 'NUM'), ('year', 'NOUN'), ('mortgage', 'NOUN'), ('commitments', 'NOUN'), ('for', 'ADP'), ('delivery', 'NOUN'), ('within', 'ADP'), ('30', 'NUM'), ('days', 'NOUN'), ('-LRB-', '.'), ('priced', 'VERB'), ('*', 'X'), ('at', 'ADP'), ('par', 'NOUN'), ('-RRB-', '.'), ('9.75', 'NUM'), ('%', 'NOUN'), (',', '.'), ('standard', 'ADJ'), ('conventional', 'ADJ'), ('fixed-rate', 'ADJ'), ('mortgages', 'NOUN'), (';', '.'), ('8.70', 'NUM'), ('%', 'NOUN'), (',', '.'), ('6\\\\/2', 'NUM'), ('rate', 'NOUN'), ('capped', 'ADJ'), ('one-year', 'ADJ'), ('adjustable', 'ADJ'), ('rate', 'NOUN'), ('mortgages', 'NOUN'), ('.', '.')]]\n"
     ]
    }
   ],
   "source": [
    "import random\n",
    "from sklearn.model_selection import train_test_split\n",
    "\n",
    "random.seed(1234)\n",
    "train_set, test_set = train_test_split(nltk_data, test_size=0.05)\n",
    "\n",
    "print(\"Training Set Length -\", len(train_set))\n",
    "print(\"Training Set Length -\", len(test_set))\n",
    "print(\"-\" * 120)\n",
    "print(\"Training Data Glimpse -\\n\")\n",
    "print(train_set[:10])"
   ]
  },
  {
   "cell_type": "markdown",
   "id": "4099e991",
   "metadata": {},
   "source": [
    "## Getting list of tagged words"
   ]
  },
  {
   "cell_type": "code",
   "execution_count": 8,
   "id": "9cf8336a",
   "metadata": {},
   "outputs": [
    {
     "data": {
      "text/plain": [
       "95688"
      ]
     },
     "execution_count": 8,
     "metadata": {},
     "output_type": "execute_result"
    }
   ],
   "source": [
    "train_tagged_words = [tup for sent in train_set for tup in sent]\n",
    "len(train_tagged_words)"
   ]
  },
  {
   "cell_type": "code",
   "execution_count": 9,
   "id": "bb63cdae",
   "metadata": {},
   "outputs": [
    {
     "data": {
      "text/plain": [
       "[('The', 'DET'),\n",
       " ('Communist', 'NOUN'),\n",
       " ('Party', 'NOUN'),\n",
       " ('chief', 'NOUN'),\n",
       " (',', '.'),\n",
       " ('*-1', 'X'),\n",
       " ('in', 'ADP'),\n",
       " ('Moscow', 'NOUN'),\n",
       " ('for', 'ADP'),\n",
       " ('talks', 'NOUN')]"
      ]
     },
     "execution_count": 9,
     "metadata": {},
     "output_type": "execute_result"
    }
   ],
   "source": [
    "train_tagged_words[:10]"
   ]
  },
  {
   "cell_type": "code",
   "execution_count": 10,
   "id": "f0b37c6f",
   "metadata": {},
   "outputs": [
    {
     "data": {
      "text/plain": [
       "['The',\n",
       " 'Communist',\n",
       " 'Party',\n",
       " 'chief',\n",
       " ',',\n",
       " '*-1',\n",
       " 'in',\n",
       " 'Moscow',\n",
       " 'for',\n",
       " 'talks']"
      ]
     },
     "execution_count": 10,
     "metadata": {},
     "output_type": "execute_result"
    }
   ],
   "source": [
    "train_data_tokens = [pair[0] for pair in train_tagged_words]\n",
    "train_data_tokens[:10]"
   ]
  },
  {
   "cell_type": "markdown",
   "id": "e539a78e",
   "metadata": {},
   "source": [
    "## POS tags for the tokens in the train set "
   ]
  },
  {
   "cell_type": "code",
   "execution_count": 11,
   "id": "50a3d13d",
   "metadata": {},
   "outputs": [
    {
     "data": {
      "text/plain": [
       "['DET', 'NOUN', 'NOUN', 'NOUN', '.', 'X', 'ADP', 'NOUN', 'ADP', 'NOUN']"
      ]
     },
     "execution_count": 11,
     "metadata": {},
     "output_type": "execute_result"
    }
   ],
   "source": [
    "train_data_pos_tags = [pair[1] for pair in train_tagged_words]\n",
    "train_data_pos_tags[:10]"
   ]
  },
  {
   "cell_type": "code",
   "execution_count": 12,
   "id": "00164cef",
   "metadata": {},
   "outputs": [],
   "source": [
    "training_vocabulary_set = set(train_data_tokens)"
   ]
  },
  {
   "cell_type": "code",
   "execution_count": 13,
   "id": "35cba325",
   "metadata": {},
   "outputs": [],
   "source": [
    "training_pos_tag_set = set(train_data_pos_tags)"
   ]
  },
  {
   "cell_type": "code",
   "execution_count": 14,
   "id": "470ff6a5",
   "metadata": {},
   "outputs": [
    {
     "name": "stdout",
     "output_type": "stream",
     "text": [
      "Length : \n",
      "Vocabulary: 12073 \n",
      "Tags: 12\n",
      "\n",
      "Available Tags :\n",
      "\n",
      "{'PRON', 'ADP', 'NOUN', '.', 'VERB', 'PRT', 'NUM', 'X', 'ADV', 'ADJ', 'DET', 'CONJ'}\n"
     ]
    }
   ],
   "source": [
    "print(\"Length : \\nVocabulary: {} \\nTags: {}\".format(len(training_vocabulary_set), len(training_pos_tag_set)))\n",
    "print(\"\\nAvailable Tags :\\n\")\n",
    "print(training_pos_tag_set)"
   ]
  },
  {
   "cell_type": "markdown",
   "id": "4eb4ca11",
   "metadata": {},
   "source": [
    "## Emission and Transition Probabilities"
   ]
  },
  {
   "cell_type": "code",
   "execution_count": 16,
   "id": "d00849bc",
   "metadata": {},
   "outputs": [],
   "source": [
    "import numpy as np\n",
    "\n",
    "len_pos_tags = len(training_pos_tag_set)\n",
    "len_vocab = len(training_vocabulary_set)\n",
    "\n",
    "word_given_tag = np.zeros((len_pos_tags, len_vocab))"
   ]
  },
  {
   "cell_type": "code",
   "execution_count": 17,
   "id": "ac1cc843",
   "metadata": {},
   "outputs": [],
   "source": [
    "def word_given_tag(word, tag, train_bag = train_tagged_words):\n",
    "    tag_list = [pair for pair in train_bag if pair[1]==tag]\n",
    "    count_tag = len(tag_list)\n",
    "    w_given_tag_list = [pair[0] for pair in tag_list if pair[0]==word]\n",
    "    count_w_given_tag = len(w_given_tag_list)\n",
    "    \n",
    "    return (count_w_given_tag, count_tag)"
   ]
  },
  {
   "cell_type": "code",
   "execution_count": 18,
   "id": "1dd9a18c",
   "metadata": {},
   "outputs": [],
   "source": [
    "\n",
    "def t2_given_t1(t2, t1, train_bag = train_tagged_words):\n",
    "    tags = [pair[1] for pair in train_bag]\n",
    "    count_t1 = len([t for t in tags if t==t1])\n",
    "    count_t2_t1 = 0\n",
    "    for index in range(len(tags)-1):\n",
    "        if tags[index]==t1 and tags[index+1] == t2:\n",
    "            count_t2_t1 += 1\n",
    "    return (count_t2_t1, count_t1)"
   ]
  },
  {
   "cell_type": "code",
   "execution_count": 19,
   "id": "a5670e63",
   "metadata": {},
   "outputs": [
    {
     "data": {
      "text/plain": [
       "array([[8.03059246e-03, 2.29445510e-02, 2.08795413e-01, 4.05353718e-02,\n",
       "        4.85277236e-01, 1.26195028e-02, 7.64818350e-03, 9.13957953e-02,\n",
       "        3.44168246e-02, 7.38049746e-02, 9.56022926e-03, 4.97131934e-03],\n",
       "       [6.96782470e-02, 1.69401243e-02, 3.21010023e-01, 3.88877057e-02,\n",
       "        8.09716620e-03, 1.38504151e-03, 6.30726591e-02, 3.43064144e-02,\n",
       "        1.34242484e-02, 1.06754743e-01, 3.25591296e-01, 8.52333265e-04],\n",
       "       [4.62962966e-03, 1.77056000e-01, 2.64071167e-01, 2.39792943e-01,\n",
       "        1.47163898e-01, 4.36716229e-02, 9.25925933e-03, 2.91994754e-02,\n",
       "        1.71332750e-02, 1.20297465e-02, 1.32691748e-02, 4.27238271e-02],\n",
       "       [6.63067922e-02, 9.11381021e-02, 2.21502468e-01, 9.43769664e-02,\n",
       "        8.88888910e-02, 2.33918126e-03, 8.01619440e-02, 2.73504276e-02,\n",
       "        5.29014841e-02, 4.40845713e-02, 1.73099414e-01, 5.77597842e-02],\n",
       "       [3.56533863e-02, 9.15361941e-02, 1.10137962e-01, 3.47233005e-02,\n",
       "        1.69431090e-01, 3.18555273e-02, 2.25546435e-02, 2.17098117e-01,\n",
       "        8.15377459e-02, 6.55712262e-02, 1.34785309e-01, 5.11548575e-03],\n",
       "       [1.86396334e-02, 2.12557223e-02, 2.48528451e-01, 4.18574214e-02,\n",
       "        4.01242644e-01, 1.96206663e-03, 5.78809679e-02, 1.34074558e-02,\n",
       "        1.01373447e-02, 8.27338099e-02, 1.00065403e-01, 2.28907773e-03],\n",
       "       [1.49075733e-03, 3.51818725e-02, 3.56887311e-01, 1.18067980e-01,\n",
       "        1.63983312e-02, 2.71317828e-02, 1.83661297e-01, 2.06917107e-01,\n",
       "        2.98151467e-03, 3.39892656e-02, 2.98151467e-03, 1.43112699e-02],\n",
       "       [5.55023924e-02, 1.44816592e-01, 6.25199378e-02, 1.61722481e-01,\n",
       "        2.04944178e-01, 1.84689000e-01, 2.71132379e-03, 7.55980834e-02,\n",
       "        2.59968098e-02, 1.75438598e-02, 5.43859638e-02, 9.56937764e-03],\n",
       "       [1.42478459e-02, 1.19946986e-01, 3.18091437e-02, 1.36514246e-01,\n",
       "        3.42611015e-01, 1.45791918e-02, 3.21404897e-02, 2.25314777e-02,\n",
       "        7.95228630e-02, 1.30218685e-01, 6.85884729e-02, 7.28959590e-03],\n",
       "       [4.93177737e-04, 7.89084360e-02, 6.97188914e-01, 6.42774925e-02,\n",
       "        1.21650500e-02, 1.08499099e-02, 2.12066416e-02, 2.16998197e-02,\n",
       "        4.60299198e-03, 6.62502050e-02, 5.09616965e-03, 1.72612201e-02],\n",
       "       [3.73179256e-03, 8.90814979e-03, 6.38497651e-01, 1.80570595e-02,\n",
       "        3.98459136e-02, 2.40760797e-04, 2.22703740e-02, 4.53834124e-02,\n",
       "        1.22788008e-02, 2.04767063e-01, 5.53749828e-03, 4.81521594e-04],\n",
       "       [6.00558668e-02, 5.07448800e-02, 3.51955295e-01, 3.63128483e-02,\n",
       "        1.58286780e-01, 4.65549342e-03, 3.95716950e-02, 7.91433919e-03,\n",
       "        5.49348220e-02, 1.15456238e-01, 1.19646184e-01, 4.65549354e-04]],\n",
       "      dtype=float32)"
      ]
     },
     "execution_count": 19,
     "metadata": {},
     "output_type": "execute_result"
    }
   ],
   "source": [
    "tags_matrix = np.zeros((len_pos_tags, len_pos_tags), dtype='float32')\n",
    "for i, t1 in enumerate(list(training_pos_tag_set)):\n",
    "    for j, t2 in enumerate(list(training_pos_tag_set)): \n",
    "        tags_matrix[i, j] = t2_given_t1(t2, t1)[0]/t2_given_t1(t2, t1)[1]\n",
    "\n",
    "# Let's have a glimpse into the transition matrix\n",
    "tags_matrix"
   ]
  },
  {
   "cell_type": "code",
   "execution_count": 21,
   "id": "c9ac287a",
   "metadata": {},
   "outputs": [
    {
     "data": {
      "text/html": [
       "<div>\n",
       "<style scoped>\n",
       "    .dataframe tbody tr th:only-of-type {\n",
       "        vertical-align: middle;\n",
       "    }\n",
       "\n",
       "    .dataframe tbody tr th {\n",
       "        vertical-align: top;\n",
       "    }\n",
       "\n",
       "    .dataframe thead th {\n",
       "        text-align: right;\n",
       "    }\n",
       "</style>\n",
       "<table border=\"1\" class=\"dataframe\">\n",
       "  <thead>\n",
       "    <tr style=\"text-align: right;\">\n",
       "      <th></th>\n",
       "      <th>PRON</th>\n",
       "      <th>ADP</th>\n",
       "      <th>NOUN</th>\n",
       "      <th>.</th>\n",
       "      <th>VERB</th>\n",
       "      <th>PRT</th>\n",
       "      <th>NUM</th>\n",
       "      <th>X</th>\n",
       "      <th>ADV</th>\n",
       "      <th>ADJ</th>\n",
       "      <th>DET</th>\n",
       "      <th>CONJ</th>\n",
       "    </tr>\n",
       "  </thead>\n",
       "  <tbody>\n",
       "    <tr>\n",
       "      <th>PRON</th>\n",
       "      <td>0.008031</td>\n",
       "      <td>0.022945</td>\n",
       "      <td>0.208795</td>\n",
       "      <td>0.040535</td>\n",
       "      <td>0.485277</td>\n",
       "      <td>0.012620</td>\n",
       "      <td>0.007648</td>\n",
       "      <td>0.091396</td>\n",
       "      <td>0.034417</td>\n",
       "      <td>0.073805</td>\n",
       "      <td>0.009560</td>\n",
       "      <td>0.004971</td>\n",
       "    </tr>\n",
       "    <tr>\n",
       "      <th>ADP</th>\n",
       "      <td>0.069678</td>\n",
       "      <td>0.016940</td>\n",
       "      <td>0.321010</td>\n",
       "      <td>0.038888</td>\n",
       "      <td>0.008097</td>\n",
       "      <td>0.001385</td>\n",
       "      <td>0.063073</td>\n",
       "      <td>0.034306</td>\n",
       "      <td>0.013424</td>\n",
       "      <td>0.106755</td>\n",
       "      <td>0.325591</td>\n",
       "      <td>0.000852</td>\n",
       "    </tr>\n",
       "    <tr>\n",
       "      <th>NOUN</th>\n",
       "      <td>0.004630</td>\n",
       "      <td>0.177056</td>\n",
       "      <td>0.264071</td>\n",
       "      <td>0.239793</td>\n",
       "      <td>0.147164</td>\n",
       "      <td>0.043672</td>\n",
       "      <td>0.009259</td>\n",
       "      <td>0.029199</td>\n",
       "      <td>0.017133</td>\n",
       "      <td>0.012030</td>\n",
       "      <td>0.013269</td>\n",
       "      <td>0.042724</td>\n",
       "    </tr>\n",
       "    <tr>\n",
       "      <th>.</th>\n",
       "      <td>0.066307</td>\n",
       "      <td>0.091138</td>\n",
       "      <td>0.221502</td>\n",
       "      <td>0.094377</td>\n",
       "      <td>0.088889</td>\n",
       "      <td>0.002339</td>\n",
       "      <td>0.080162</td>\n",
       "      <td>0.027350</td>\n",
       "      <td>0.052901</td>\n",
       "      <td>0.044085</td>\n",
       "      <td>0.173099</td>\n",
       "      <td>0.057760</td>\n",
       "    </tr>\n",
       "    <tr>\n",
       "      <th>VERB</th>\n",
       "      <td>0.035653</td>\n",
       "      <td>0.091536</td>\n",
       "      <td>0.110138</td>\n",
       "      <td>0.034723</td>\n",
       "      <td>0.169431</td>\n",
       "      <td>0.031856</td>\n",
       "      <td>0.022555</td>\n",
       "      <td>0.217098</td>\n",
       "      <td>0.081538</td>\n",
       "      <td>0.065571</td>\n",
       "      <td>0.134785</td>\n",
       "      <td>0.005115</td>\n",
       "    </tr>\n",
       "    <tr>\n",
       "      <th>PRT</th>\n",
       "      <td>0.018640</td>\n",
       "      <td>0.021256</td>\n",
       "      <td>0.248528</td>\n",
       "      <td>0.041857</td>\n",
       "      <td>0.401243</td>\n",
       "      <td>0.001962</td>\n",
       "      <td>0.057881</td>\n",
       "      <td>0.013407</td>\n",
       "      <td>0.010137</td>\n",
       "      <td>0.082734</td>\n",
       "      <td>0.100065</td>\n",
       "      <td>0.002289</td>\n",
       "    </tr>\n",
       "    <tr>\n",
       "      <th>NUM</th>\n",
       "      <td>0.001491</td>\n",
       "      <td>0.035182</td>\n",
       "      <td>0.356887</td>\n",
       "      <td>0.118068</td>\n",
       "      <td>0.016398</td>\n",
       "      <td>0.027132</td>\n",
       "      <td>0.183661</td>\n",
       "      <td>0.206917</td>\n",
       "      <td>0.002982</td>\n",
       "      <td>0.033989</td>\n",
       "      <td>0.002982</td>\n",
       "      <td>0.014311</td>\n",
       "    </tr>\n",
       "    <tr>\n",
       "      <th>X</th>\n",
       "      <td>0.055502</td>\n",
       "      <td>0.144817</td>\n",
       "      <td>0.062520</td>\n",
       "      <td>0.161722</td>\n",
       "      <td>0.204944</td>\n",
       "      <td>0.184689</td>\n",
       "      <td>0.002711</td>\n",
       "      <td>0.075598</td>\n",
       "      <td>0.025997</td>\n",
       "      <td>0.017544</td>\n",
       "      <td>0.054386</td>\n",
       "      <td>0.009569</td>\n",
       "    </tr>\n",
       "    <tr>\n",
       "      <th>ADV</th>\n",
       "      <td>0.014248</td>\n",
       "      <td>0.119947</td>\n",
       "      <td>0.031809</td>\n",
       "      <td>0.136514</td>\n",
       "      <td>0.342611</td>\n",
       "      <td>0.014579</td>\n",
       "      <td>0.032140</td>\n",
       "      <td>0.022531</td>\n",
       "      <td>0.079523</td>\n",
       "      <td>0.130219</td>\n",
       "      <td>0.068588</td>\n",
       "      <td>0.007290</td>\n",
       "    </tr>\n",
       "    <tr>\n",
       "      <th>ADJ</th>\n",
       "      <td>0.000493</td>\n",
       "      <td>0.078908</td>\n",
       "      <td>0.697189</td>\n",
       "      <td>0.064277</td>\n",
       "      <td>0.012165</td>\n",
       "      <td>0.010850</td>\n",
       "      <td>0.021207</td>\n",
       "      <td>0.021700</td>\n",
       "      <td>0.004603</td>\n",
       "      <td>0.066250</td>\n",
       "      <td>0.005096</td>\n",
       "      <td>0.017261</td>\n",
       "    </tr>\n",
       "    <tr>\n",
       "      <th>DET</th>\n",
       "      <td>0.003732</td>\n",
       "      <td>0.008908</td>\n",
       "      <td>0.638498</td>\n",
       "      <td>0.018057</td>\n",
       "      <td>0.039846</td>\n",
       "      <td>0.000241</td>\n",
       "      <td>0.022270</td>\n",
       "      <td>0.045383</td>\n",
       "      <td>0.012279</td>\n",
       "      <td>0.204767</td>\n",
       "      <td>0.005537</td>\n",
       "      <td>0.000482</td>\n",
       "    </tr>\n",
       "    <tr>\n",
       "      <th>CONJ</th>\n",
       "      <td>0.060056</td>\n",
       "      <td>0.050745</td>\n",
       "      <td>0.351955</td>\n",
       "      <td>0.036313</td>\n",
       "      <td>0.158287</td>\n",
       "      <td>0.004655</td>\n",
       "      <td>0.039572</td>\n",
       "      <td>0.007914</td>\n",
       "      <td>0.054935</td>\n",
       "      <td>0.115456</td>\n",
       "      <td>0.119646</td>\n",
       "      <td>0.000466</td>\n",
       "    </tr>\n",
       "  </tbody>\n",
       "</table>\n",
       "</div>"
      ],
      "text/plain": [
       "          PRON       ADP      NOUN         .      VERB       PRT       NUM  \\\n",
       "PRON  0.008031  0.022945  0.208795  0.040535  0.485277  0.012620  0.007648   \n",
       "ADP   0.069678  0.016940  0.321010  0.038888  0.008097  0.001385  0.063073   \n",
       "NOUN  0.004630  0.177056  0.264071  0.239793  0.147164  0.043672  0.009259   \n",
       ".     0.066307  0.091138  0.221502  0.094377  0.088889  0.002339  0.080162   \n",
       "VERB  0.035653  0.091536  0.110138  0.034723  0.169431  0.031856  0.022555   \n",
       "PRT   0.018640  0.021256  0.248528  0.041857  0.401243  0.001962  0.057881   \n",
       "NUM   0.001491  0.035182  0.356887  0.118068  0.016398  0.027132  0.183661   \n",
       "X     0.055502  0.144817  0.062520  0.161722  0.204944  0.184689  0.002711   \n",
       "ADV   0.014248  0.119947  0.031809  0.136514  0.342611  0.014579  0.032140   \n",
       "ADJ   0.000493  0.078908  0.697189  0.064277  0.012165  0.010850  0.021207   \n",
       "DET   0.003732  0.008908  0.638498  0.018057  0.039846  0.000241  0.022270   \n",
       "CONJ  0.060056  0.050745  0.351955  0.036313  0.158287  0.004655  0.039572   \n",
       "\n",
       "             X       ADV       ADJ       DET      CONJ  \n",
       "PRON  0.091396  0.034417  0.073805  0.009560  0.004971  \n",
       "ADP   0.034306  0.013424  0.106755  0.325591  0.000852  \n",
       "NOUN  0.029199  0.017133  0.012030  0.013269  0.042724  \n",
       ".     0.027350  0.052901  0.044085  0.173099  0.057760  \n",
       "VERB  0.217098  0.081538  0.065571  0.134785  0.005115  \n",
       "PRT   0.013407  0.010137  0.082734  0.100065  0.002289  \n",
       "NUM   0.206917  0.002982  0.033989  0.002982  0.014311  \n",
       "X     0.075598  0.025997  0.017544  0.054386  0.009569  \n",
       "ADV   0.022531  0.079523  0.130219  0.068588  0.007290  \n",
       "ADJ   0.021700  0.004603  0.066250  0.005096  0.017261  \n",
       "DET   0.045383  0.012279  0.204767  0.005537  0.000482  \n",
       "CONJ  0.007914  0.054935  0.115456  0.119646  0.000466  "
      ]
     },
     "execution_count": 21,
     "metadata": {},
     "output_type": "execute_result"
    }
   ],
   "source": [
    "import pandas as pd\n",
    "\n",
    "# convert the matrix to a data frame for better readability\n",
    "tags_df = pd.DataFrame(tags_matrix, columns = list(training_pos_tag_set), index=list(training_pos_tag_set))\n",
    "\n",
    "# dataset glimpse\n",
    "tags_df"
   ]
  },
  {
   "cell_type": "markdown",
   "id": "8e4e4a7b",
   "metadata": {},
   "source": [
    "## Exploratory Data Analysis"
   ]
  },
  {
   "cell_type": "code",
   "execution_count": 22,
   "id": "853da8b8",
   "metadata": {},
   "outputs": [
    {
     "data": {
      "image/png": "[encoded data removed]",
      "text/plain": [
       "<Figure size 1008x576 with 2 Axes>"
      ]
     },
     "metadata": {
      "needs_background": "light"
     },
     "output_type": "display_data"
    }
   ],
   "source": [
    "import matplotlib.pyplot as plt\n",
    "import seaborn as sns\n",
    "\n",
    "plt.figure(figsize=(14, 8))\n",
    "sns.heatmap(tags_df, annot = True)\n",
    "plt.show()"
   ]
  },
  {
   "cell_type": "code",
   "execution_count": 23,
   "id": "c67500b9",
   "metadata": {},
   "outputs": [
    {
     "data": {
      "image/png": "[encoded data removed]",
      "text/plain": [
       "<Figure size 1008x576 with 2 Axes>"
      ]
     },
     "metadata": {
      "needs_background": "light"
     },
     "output_type": "display_data"
    }
   ],
   "source": [
    "tags_frequent = tags_df[tags_df>0.5]\n",
    "plt.figure(figsize=(14, 8))\n",
    "sns.heatmap(tags_frequent, annot = True)\n",
    "plt.show()"
   ]
  },
  {
   "cell_type": "code",
   "execution_count": null,
   "id": "186b0d4b",
   "metadata": {},
   "outputs": [],
   "source": []
  }
 ],
 "metadata": {
  "kernelspec": {
   "display_name": "Python 3",
   "language": "python",
   "name": "python3"
  },
  "language_info": {
   "codemirror_mode": {
    "name": "ipython",
    "version": 3
   },
   "file_extension": ".py",
   "mimetype": "text/x-python",
   "name": "python",
   "nbconvert_exporter": "python",
   "pygments_lexer": "ipython3",
   "version": "3.8.2"
  }
 },
 "nbformat": 4,
 "nbformat_minor": 5
}
